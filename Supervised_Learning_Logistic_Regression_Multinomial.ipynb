{
 "cells": [
  {
   "cell_type": "markdown",
   "id": "1cadb874",
   "metadata": {},
   "source": [
    "<html>\n",
    "    <h1> Supervised Learning Logistic Regression Multinomial\n",
    "        </h1>\n",
    "        <p> <b> Min Khant Soe</b> </p>\n",
    "        <p> ID: 122277 </p>\n",
    "        <p> ^_^ </p>\n",
    "    </html>"
   ]
  },
  {
   "cell_type": "markdown",
   "id": "fe8814a2",
   "metadata": {},
   "source": [
    "<html>\n",
    "<p>\n",
    "    </p>\n",
    "<p>1. With the iris data given in class, implement train_test_split from scratch.\n",
    "</p>\n",
    "</html>"
   ]
  },
  {
   "cell_type": "code",
   "execution_count": 192,
   "id": "21a48847",
   "metadata": {
    "scrolled": false
   },
   "outputs": [],
   "source": [
    "import numpy as np\n",
    "import matplotlib.pyplot as plt\n",
    "from sklearn import datasets\n",
    "from sklearn.preprocessing import StandardScaler\n",
    "from sklearn.model_selection import train_test_split\n",
    "\n",
    "from sklearn.metrics import classification_report\n",
    "from sklearn.preprocessing import label_binarize\n",
    "from sklearn.metrics import average_precision_score\n",
    "\n",
    "# prepare\n",
    "iris = datasets.load_iris()\n",
    "X = iris.data[:, 2:]\n",
    "y = iris.target\n",
    "\n",
    "#feature scaling\n",
    "scaler = StandardScaler()\n",
    "X = scaler.fit_transform(X)\n",
    "\n",
    "#Train_test Split\n",
    "X_train, X_test, y_train, y_test = train_test_split(X, y, test_size = 0.3)\n",
    "\n",
    "#add intercept to X\n",
    "intercept = np.ones((X_train.shape[0], 1))\n",
    "X_train = np.concatenate((intercept, X_train), axis = 1)\n",
    "intercept = np.ones((X_test.shape[0],1))\n",
    "X_test = np.concatenate((intercept, X_test), axis = 1)\n",
    "\n",
    "k = len(set(y))\n",
    "m = X_train.shape[0]\n",
    "n = X_train.shape[1]\n",
    "y_train_encoded = np.zeros((m,k))\n",
    "for each_class in range(k):\n",
    "    cond = y_train == each_class\n",
    "    y_train_encoded[np.where(cond), each_class] = 1\n"
   ]
  },
  {
   "cell_type": "code",
   "execution_count": 193,
   "id": "c95a19cb",
   "metadata": {
    "scrolled": true
   },
   "outputs": [
    {
     "data": {
      "image/png": "[encoded data removed]",
      "text/plain": [
       "<Figure size 432x432 with 1 Axes>"
      ]
     },
     "metadata": {
      "needs_background": "light"
     },
     "output_type": "display_data"
    }
   ],
   "source": [
    "#visualize the data\n",
    "plt.figure(figsize=(6,6))\n",
    "plt.scatter(X[:, 0], X[:, 1], label='class 0', c=y)\n",
    "plt.show()"
   ]
  },
  {
   "cell_type": "markdown",
   "id": "78dd3fdc",
   "metadata": {},
   "source": [
    "<html>\n",
    "<p>\n",
    "    </p>\n",
    "<p> 2. Put everything into a class called LogisticRegression, this class should allow you choose any of the training methods you'd like including \"batch\", \"minibatch\" and \"sto\". However, if the input method is not one of the three, it should \"raise ValueError\".\n",
    "</p>\n",
    "    <p> </p>\n",
    "    <p> 3. Calculate time taken to fit your models using different training methods. </p>\n",
    "</html>"
   ]
  },
  {
   "cell_type": "code",
   "execution_count": 194,
   "id": "39cf6098",
   "metadata": {},
   "outputs": [],
   "source": [
    "#fit data\n",
    "\n",
    "class LogisticRegression:\n",
    "\n",
    "    def __init__(self, X, Y, k, n, method, max_iter = 1000, l_rate = 0.01):\n",
    "        self.X = X\n",
    "        self.Y = Y\n",
    "        self.k = k\n",
    "        self.n = n\n",
    "        self.max_iter = max_iter\n",
    "        self.method = method\n",
    "        self.l_rate = l_rate\n",
    "        self.loss = []\n",
    "        self.W = np.random.rand(self.n,self.k)\n",
    "        import time\n",
    "        \n",
    "        if self.method == 'Batch':\n",
    "            start_time = time.time()\n",
    "            for i in range(max_iter):\n",
    "                cost, grad = self.gradient(self.X, self.Y)\n",
    "                if i % 500 == 0:\n",
    "                    print(f\"Cost at iteration {i}\", cost)\n",
    "                self.W = self.W - self.l_rate * grad\n",
    "                self.loss.append(cost)\n",
    "            print(f\"time taken: {time.time() - start_time}\")  \n",
    "            \n",
    "        elif self.method == 'Minibatch':\n",
    "            start_time = time.time()\n",
    "            batch_size = int(0.1 * self.X.shape[0])\n",
    "            for i in range(self.max_iter):\n",
    "\n",
    "                ix = np.random.randint(0, self.X.shape[0]) #<----with replacement\n",
    "                batch_X = self.X[ix:ix+batch_size]\n",
    "                batch_Y = self.Y[ix:ix+batch_size]\n",
    "\n",
    "                cost, grad = self.gradient(batch_X, batch_Y)\n",
    "\n",
    "                if i % 500 == 0:\n",
    "                    print(f\"Cost at iteration {i}\", cost)\n",
    "                self.W = self.W - self.l_rate * grad\n",
    "                self.loss.append(cost)\n",
    "            print(f\"time taken: {time.time() - start_time}\")\n",
    "            \n",
    "        elif self.method == 'Sto':\n",
    "            start_time = time.time()\n",
    "            used_ix = []\n",
    "            \n",
    "            for i in range(self.max_iter):\n",
    "                idx = np.random.randint(self.X.shape[0])\n",
    "                \n",
    "                while i in used_ix:\n",
    "                    idx = np.random.randint(self.X.shape[0])\n",
    "                    \n",
    "                X_train = self.X[idx,:].reshape(1,-1)\n",
    "                Y_train = Y[idx]\n",
    "                cost, grad = self.gradient(X_train, Y_train)\n",
    "\n",
    "                if i % 500 == 0:\n",
    "                    print(f\"Cost at iteration {i}\", cost)\n",
    "                self.W = self.W - self.l_rate * grad\n",
    "                self.loss.append(cost)\n",
    "                \n",
    "                used_ix.append(i)\n",
    "                if len(used_ix) == X.shape[0]:\n",
    "                    used_ix = []\n",
    "            print(f\"time taken: {time.time() - start_time}\")\n",
    "        else:\n",
    "            raise ValueError('Method input error: use one of the following methods: \"Batch\", \"Minibatch, \"Sto\"')\n",
    "                \n",
    "            \n",
    "\n",
    "    def gradient(self, X, Y):\n",
    "        m = X.shape[0]\n",
    "        h = self.h_theta(X)\n",
    "        cost = - np.sum(Y * np.log(h)) / m\n",
    "        error = h - Y\n",
    "        grad = self.softmax_grad(X, error)\n",
    "        return cost, grad\n",
    "\n",
    "    def h_theta (self, X):\n",
    "        return self.softmax(X @  self.W)\n",
    "\n",
    "    def softmax(self, x):\n",
    "        return np.exp(x)/np.sum(np.exp(x), axis = 1, keepdims= True)\n",
    "\n",
    "    def softmax_grad(self, X, error):\n",
    "        return X.T @ error\n",
    "    \n",
    "    def yhat(self, X_test):\n",
    "        return np.argmax(self.h_theta(X_test), axis = 1)\n",
    "    \n",
    "    def plot(self):\n",
    "        plt.plot(np.arange(len(self.loss)), self.loss, color = 'Orange', label = 'Training Losses')\n",
    "        plt.title(\"The plot of training losses as number of iters increases.\")\n",
    "        plt.xlabel(\"Epoch\")\n",
    "        plt.ylabel(\"Losses\")\n",
    "        plt.legend()"
   ]
  },
  {
   "cell_type": "code",
   "execution_count": 195,
   "id": "d2769ca8",
   "metadata": {
    "scrolled": false
   },
   "outputs": [
    {
     "name": "stdout",
     "output_type": "stream",
     "text": [
      "Cost at iteration 0 1.440617818071419\n",
      "Cost at iteration 500 0.07592931158377404\n",
      "Cost at iteration 1000 0.06552079741025167\n",
      "Cost at iteration 1500 0.061595509143610325\n",
      "Cost at iteration 2000 0.05957322749821221\n",
      "Cost at iteration 2500 0.05836553807165462\n",
      "Cost at iteration 3000 0.0575782075216117\n",
      "Cost at iteration 3500 0.05703401392931915\n",
      "Cost at iteration 4000 0.05664175213864285\n",
      "Cost at iteration 4500 0.05634988878781611\n",
      "Cost at iteration 5000 0.0561272391564347\n",
      "Cost at iteration 5500 0.05595391433126825\n",
      "Cost at iteration 6000 0.0558166917748179\n",
      "Cost at iteration 6500 0.0557064802467585\n",
      "Cost at iteration 7000 0.05561685302779941\n",
      "Cost at iteration 7500 0.05554315993367463\n",
      "Cost at iteration 8000 0.05548196894480403\n",
      "Cost at iteration 8500 0.05543070359819191\n",
      "Cost at iteration 9000 0.05538740088877757\n",
      "Cost at iteration 9500 0.05535054568969511\n",
      "time taken: 0.20378375053405762\n"
     ]
    }
   ],
   "source": [
    "model = LogisticRegression(X_train, y_train_encoded, k, X_train.shape[1], 'Batch', 10000, 0.01 )"
   ]
  },
  {
   "cell_type": "code",
   "execution_count": 196,
   "id": "b4135bb3",
   "metadata": {},
   "outputs": [
    {
     "data": {
      "text/plain": [
       "array([2, 2, 0, 0, 2, 1, 1, 1, 1, 0, 2, 0, 1, 0, 0, 1, 0, 1, 2, 0, 2, 0,\n",
       "       0, 2, 0, 1, 1, 2, 2, 1, 0, 2, 2, 1, 2, 1, 2, 2, 2, 0, 0, 1, 0, 0,\n",
       "       1], dtype=int64)"
      ]
     },
     "execution_count": 196,
     "metadata": {},
     "output_type": "execute_result"
    }
   ],
   "source": [
    "yhat_check = np.argmax(model.h_theta(X_test), axis = 1)\n",
    "yhat"
   ]
  },
  {
   "cell_type": "code",
   "execution_count": 197,
   "id": "aac73fa0",
   "metadata": {
    "scrolled": true
   },
   "outputs": [
    {
     "data": {
      "text/plain": [
       "array([2, 0, 1, 0, 2, 2, 1, 0, 0, 2, 0, 2, 1, 2, 0, 2, 1, 2, 2, 1, 0, 1,\n",
       "       0, 2, 0, 2, 2, 2, 1, 0, 0, 0, 0, 0, 1, 2, 2, 0, 2, 2, 2, 1, 2, 2,\n",
       "       0], dtype=int64)"
      ]
     },
     "execution_count": 197,
     "metadata": {},
     "output_type": "execute_result"
    }
   ],
   "source": [
    "yhat = model.yhat(X_test)\n",
    "yhat"
   ]
  },
  {
   "cell_type": "code",
   "execution_count": 198,
   "id": "b6d61d22",
   "metadata": {},
   "outputs": [
    {
     "name": "stdout",
     "output_type": "stream",
     "text": [
      "(45,) (45,)\n"
     ]
    }
   ],
   "source": [
    "print(y_test.shape, yhat.shape)"
   ]
  },
  {
   "cell_type": "code",
   "execution_count": 199,
   "id": "de3c1749",
   "metadata": {},
   "outputs": [
    {
     "name": "stdout",
     "output_type": "stream",
     "text": [
      "=========Classification report=======\n",
      "Report:                precision    recall  f1-score   support\n",
      "\n",
      "           0       1.00      1.00      1.00        16\n",
      "           1       0.89      0.89      0.89         9\n",
      "           2       0.95      0.95      0.95        20\n",
      "\n",
      "    accuracy                           0.96        45\n",
      "   macro avg       0.95      0.95      0.95        45\n",
      "weighted avg       0.96      0.96      0.96        45\n",
      "\n"
     ]
    }
   ],
   "source": [
    "print(\"=========Classification report=======\")\n",
    "print(\"Report: \", classification_report(y_test, yhat))"
   ]
  },
  {
   "cell_type": "code",
   "execution_count": 200,
   "id": "b744989c",
   "metadata": {},
   "outputs": [
    {
     "name": "stdout",
     "output_type": "stream",
     "text": [
      "=========Average precision score=======\n",
      "Class 0 score: 1.0\n",
      "Class 1 score: 0.8123456790123457\n",
      "Class 2 score: 0.9247222222222222\n"
     ]
    }
   ],
   "source": [
    "print(\"=========Average precision score=======\")\n",
    "y_test_binarized = label_binarize(y_test, classes = [0,1,2])\n",
    "yhat_binarized = label_binarize(yhat, classes= [0,1,2])\n",
    "\n",
    "n_classes = len(np.unique(y_test))\n",
    "\n",
    "for i in range(n_classes):\n",
    "    class_score = average_precision_score(y_test_binarized[:, i], yhat_binarized[:,i])\n",
    "    print(f\"Class {i} score: {class_score}\")\n",
    "    "
   ]
  },
  {
   "cell_type": "markdown",
   "id": "a293957e",
   "metadata": {},
   "source": [
    "<html>\n",
    "<p> </p> \n",
    "<p> 4. Perform a classification on the dataset using all 3 methods and also show what happens if your defined training method is not either \"batch\", \"minibatch\" or \"sto\". Make sure to plot the training losses. </p>\n",
    "    <p> 5. Simply, use classification_report from sklearn.metrics to evaluate your models.\n",
    "    </p>\n",
    "</html>"
   ]
  },
  {
   "cell_type": "code",
   "execution_count": 201,
   "id": "6ede8202",
   "metadata": {
    "scrolled": true
   },
   "outputs": [
    {
     "name": "stdout",
     "output_type": "stream",
     "text": [
      "Cost at iteration 0 1.3513031580160666\n",
      "Cost at iteration 500 0.07569629886794492\n",
      "Cost at iteration 1000 0.06543978751657815\n",
      "Cost at iteration 1500 0.06155555739728503\n",
      "Cost at iteration 2000 0.059549658082169\n",
      "Cost at iteration 2500 0.058350124600169535\n",
      "Cost at iteration 3000 0.05756743869641806\n",
      "Cost at iteration 3500 0.0570261363887164\n",
      "Cost at iteration 4000 0.05663579167673476\n",
      "Cost at iteration 4500 0.05634526069231451\n",
      "time taken: 0.10405659675598145\n",
      "\n",
      "=========Classification report=======\n",
      "Report:                precision    recall  f1-score   support\n",
      "\n",
      "           0       1.00      1.00      1.00        16\n",
      "           1       0.89      0.89      0.89         9\n",
      "           2       0.95      0.95      0.95        20\n",
      "\n",
      "    accuracy                           0.96        45\n",
      "   macro avg       0.95      0.95      0.95        45\n",
      "weighted avg       0.96      0.96      0.96        45\n",
      "\n",
      "\n",
      "=========Average precision score=======\n",
      "Class 0 score: 1.0\n",
      "Class 1 score: 0.8123456790123457\n",
      "Class 2 score: 0.9247222222222222\n"
     ]
    },
    {
     "data": {
      "image/png": "[encoded data removed]",
      "text/plain": [
       "<Figure size 432x288 with 1 Axes>"
      ]
     },
     "metadata": {
      "needs_background": "light"
     },
     "output_type": "display_data"
    }
   ],
   "source": [
    "#Batch\n",
    "model = LogisticRegression(X_train, y_train_encoded, k, X_train.shape[1], 'Batch', 5000, 0.01 )\n",
    "yhat = model.yhat(X_test)\n",
    "\n",
    "print(\"\\n=========Classification report=======\")\n",
    "print(\"Report: \", classification_report(y_test, yhat))\n",
    "\n",
    "print(\"\\n=========Average precision score=======\")\n",
    "y_test_binarized = label_binarize(y_test, classes = [0,1,2])\n",
    "yhat_binarized = label_binarize(yhat, classes= [0,1,2])\n",
    "n_classes = len(np.unique(y_test))\n",
    "for i in range(n_classes):\n",
    "    class_score = average_precision_score(y_test_binarized[:, i], yhat_binarized[:,i])\n",
    "    print(f\"Class {i} score: {class_score}\")\n",
    "    \n",
    "model.plot()"
   ]
  },
  {
   "cell_type": "code",
   "execution_count": 202,
   "id": "cc8dd6d3",
   "metadata": {},
   "outputs": [
    {
     "name": "stdout",
     "output_type": "stream",
     "text": [
      "Cost at iteration 0 1.5285338983797376\n",
      "Cost at iteration 500 0.1658481891945532\n",
      "Cost at iteration 1000 0.1869441555517627\n",
      "Cost at iteration 1500 0.03461157526341816\n",
      "Cost at iteration 2000 0.08046842556349941\n",
      "Cost at iteration 2500 0.03277014362563423\n",
      "Cost at iteration 3000 0.05156747792613074\n",
      "Cost at iteration 3500 0.01727467883809084\n",
      "Cost at iteration 4000 0.09905028000232409\n",
      "Cost at iteration 4500 0.04728518222571964\n",
      "time taken: 0.08571290969848633\n",
      "\n",
      "=========Classification report=======\n",
      "Report:                precision    recall  f1-score   support\n",
      "\n",
      "           0       1.00      1.00      1.00        16\n",
      "           1       0.89      0.89      0.89         9\n",
      "           2       0.95      0.95      0.95        20\n",
      "\n",
      "    accuracy                           0.96        45\n",
      "   macro avg       0.95      0.95      0.95        45\n",
      "weighted avg       0.96      0.96      0.96        45\n",
      "\n",
      "\n",
      "=========Average precision score=======\n",
      "Class 0 score: 1.0\n",
      "Class 1 score: 0.8123456790123457\n",
      "Class 2 score: 0.9247222222222222\n"
     ]
    },
    {
     "data": {
      "image/png": "[encoded data removed]",
      "text/plain": [
       "<Figure size 432x288 with 1 Axes>"
      ]
     },
     "metadata": {
      "needs_background": "light"
     },
     "output_type": "display_data"
    }
   ],
   "source": [
    "#Minibatch\n",
    "model = LogisticRegression(X_train, y_train_encoded, k, X_train.shape[1], 'Minibatch', 5000, 0.01 )\n",
    "yhat = model.yhat(X_test)\n",
    "\n",
    "print(\"\\n=========Classification report=======\")\n",
    "print(\"Report: \", classification_report(y_test, yhat))\n",
    "\n",
    "print(\"\\n=========Average precision score=======\")\n",
    "y_test_binarized = label_binarize(y_test, classes = [0,1,2])\n",
    "yhat_binarized = label_binarize(yhat, classes= [0,1,2])\n",
    "n_classes = len(np.unique(y_test))\n",
    "for i in range(n_classes):\n",
    "    class_score = average_precision_score(y_test_binarized[:, i], yhat_binarized[:,i])\n",
    "    print(f\"Class {i} score: {class_score}\")\n",
    "    \n",
    "model.plot()"
   ]
  },
  {
   "cell_type": "code",
   "execution_count": 203,
   "id": "db1c750b",
   "metadata": {
    "scrolled": true
   },
   "outputs": [
    {
     "name": "stdout",
     "output_type": "stream",
     "text": [
      "Cost at iteration 0 1.3227046201705006\n",
      "Cost at iteration 500 0.8828369468239925\n",
      "Cost at iteration 1000 0.5275706384043561\n",
      "Cost at iteration 1500 0.4653047906264129\n",
      "Cost at iteration 2000 0.4054468647339275\n",
      "Cost at iteration 2500 0.3817590243909489\n",
      "Cost at iteration 3000 0.03835989679501729\n",
      "Cost at iteration 3500 0.35302293997953244\n",
      "Cost at iteration 4000 0.9987488516540044\n",
      "Cost at iteration 4500 0.03998041883082414\n",
      "time taken: 0.08870315551757812\n",
      "\n",
      "=========Classification report=======\n",
      "Report:                precision    recall  f1-score   support\n",
      "\n",
      "           0       1.00      1.00      1.00        16\n",
      "           1       0.89      0.89      0.89         9\n",
      "           2       0.95      0.95      0.95        20\n",
      "\n",
      "    accuracy                           0.96        45\n",
      "   macro avg       0.95      0.95      0.95        45\n",
      "weighted avg       0.96      0.96      0.96        45\n",
      "\n",
      "\n",
      "=========Average precision score=======\n",
      "Class 0 score: 1.0\n",
      "Class 1 score: 0.8123456790123457\n",
      "Class 2 score: 0.9247222222222222\n"
     ]
    },
    {
     "data": {
      "image/png": "[encoded data removed]",
      "text/plain": [
       "<Figure size 432x288 with 1 Axes>"
      ]
     },
     "metadata": {
      "needs_background": "light"
     },
     "output_type": "display_data"
    }
   ],
   "source": [
    "#sto\n",
    "model = LogisticRegression(X_train, y_train_encoded, k, X_train.shape[1], 'Sto', 5000, 0.01 )\n",
    "yhat = model.yhat(X_test)\n",
    "\n",
    "print(\"\\n=========Classification report=======\")\n",
    "print(\"Report: \", classification_report(y_test, yhat))\n",
    "\n",
    "print(\"\\n=========Average precision score=======\")\n",
    "y_test_binarized = label_binarize(y_test, classes = [0,1,2])\n",
    "yhat_binarized = label_binarize(yhat, classes= [0,1,2])\n",
    "n_classes = len(np.unique(y_test))\n",
    "for i in range(n_classes):\n",
    "    class_score = average_precision_score(y_test_binarized[:, i], yhat_binarized[:,i])\n",
    "    print(f\"Class {i} score: {class_score}\")\n",
    "\n",
    "model.plot()"
   ]
  },
  {
   "cell_type": "code",
   "execution_count": 204,
   "id": "4fb0600b",
   "metadata": {
    "scrolled": true
   },
   "outputs": [
    {
     "ename": "ValueError",
     "evalue": "Method input error: use one of the following methods: \"Batch\", \"Minibatch, \"Sto\"",
     "output_type": "error",
     "traceback": [
      "\u001b[1;31m---------------------------------------------------------------------------\u001b[0m",
      "\u001b[1;31mValueError\u001b[0m                                Traceback (most recent call last)",
      "\u001b[1;32m~\\AppData\\Local\\Temp/ipykernel_21020/2688513457.py\u001b[0m in \u001b[0;36m<module>\u001b[1;34m\u001b[0m\n\u001b[0;32m      1\u001b[0m \u001b[1;31m#not from the method in class\u001b[0m\u001b[1;33m\u001b[0m\u001b[1;33m\u001b[0m\u001b[1;33m\u001b[0m\u001b[0m\n\u001b[0;32m      2\u001b[0m \u001b[1;31m#Minibatch\u001b[0m\u001b[1;33m\u001b[0m\u001b[1;33m\u001b[0m\u001b[1;33m\u001b[0m\u001b[0m\n\u001b[1;32m----> 3\u001b[1;33m \u001b[0mmodel\u001b[0m \u001b[1;33m=\u001b[0m \u001b[0mLogisticRegression\u001b[0m\u001b[1;33m(\u001b[0m\u001b[0mX_train\u001b[0m\u001b[1;33m,\u001b[0m \u001b[0my_train_encoded\u001b[0m\u001b[1;33m,\u001b[0m \u001b[0mk\u001b[0m\u001b[1;33m,\u001b[0m \u001b[0mX_train\u001b[0m\u001b[1;33m.\u001b[0m\u001b[0mshape\u001b[0m\u001b[1;33m[\u001b[0m\u001b[1;36m1\u001b[0m\u001b[1;33m]\u001b[0m\u001b[1;33m,\u001b[0m \u001b[1;34m'minibatch'\u001b[0m\u001b[1;33m,\u001b[0m \u001b[1;36m5000\u001b[0m\u001b[1;33m,\u001b[0m \u001b[1;36m0.01\u001b[0m \u001b[1;33m)\u001b[0m\u001b[1;33m\u001b[0m\u001b[1;33m\u001b[0m\u001b[0m\n\u001b[0m",
      "\u001b[1;32m~\\AppData\\Local\\Temp/ipykernel_21020/3119652603.py\u001b[0m in \u001b[0;36m__init__\u001b[1;34m(self, X, Y, k, n, method, max_iter, l_rate)\u001b[0m\n\u001b[0;32m     66\u001b[0m             \u001b[0mprint\u001b[0m\u001b[1;33m(\u001b[0m\u001b[1;34mf\"time taken: {time.time() - start_time}\"\u001b[0m\u001b[1;33m)\u001b[0m\u001b[1;33m\u001b[0m\u001b[1;33m\u001b[0m\u001b[0m\n\u001b[0;32m     67\u001b[0m         \u001b[1;32melse\u001b[0m\u001b[1;33m:\u001b[0m\u001b[1;33m\u001b[0m\u001b[1;33m\u001b[0m\u001b[0m\n\u001b[1;32m---> 68\u001b[1;33m             \u001b[1;32mraise\u001b[0m \u001b[0mValueError\u001b[0m\u001b[1;33m(\u001b[0m\u001b[1;34m'Method input error: use one of the following methods: \"Batch\", \"Minibatch, \"Sto\"'\u001b[0m\u001b[1;33m)\u001b[0m\u001b[1;33m\u001b[0m\u001b[1;33m\u001b[0m\u001b[0m\n\u001b[0m\u001b[0;32m     69\u001b[0m \u001b[1;33m\u001b[0m\u001b[0m\n\u001b[0;32m     70\u001b[0m \u001b[1;33m\u001b[0m\u001b[0m\n",
      "\u001b[1;31mValueError\u001b[0m: Method input error: use one of the following methods: \"Batch\", \"Minibatch, \"Sto\""
     ]
    }
   ],
   "source": [
    "#not from the method in class\n",
    "#Minibatch\n",
    "model = LogisticRegression(X_train, y_train_encoded, k, X_train.shape[1], 'minibatch', 5000, 0.01 )\n"
   ]
  },
  {
   "cell_type": "markdown",
   "id": "84bcc1a1",
   "metadata": {},
   "source": [
    "<html>\n",
    "<p>\n",
    "    </p>\n",
    "<p> 6. Discuss your results ie. training losses of the three methods and time taken to fit models.\n",
    "</p>\n",
    "</html>"
   ]
  },
  {
   "cell_type": "markdown",
   "id": "550aa65a",
   "metadata": {},
   "source": [
    "<html>\n",
    "<p>\n",
    "    </p>\n",
    "<p> 6. \n",
    "</p>\n",
    "    <p> The training losses in Batch is the lowest, and in Sto is the highest. The training losses in Minibatch is 2nd highest among in three methods.\n",
    "    </p>\n",
    "    <p> Time taken of batch method is the longest while that of minibatch and sto are similar. In my result, time taken in minimatch is slighly faster than in sto.\n",
    "    </p>\n",
    "</html>"
   ]
  }
 ],
 "metadata": {
  "kernelspec": {
   "display_name": "Python 3 (ipykernel)",
   "language": "python",
   "name": "python3"
  },
  "language_info": {
   "codemirror_mode": {
    "name": "ipython",
    "version": 3
   },
   "file_extension": ".py",
   "mimetype": "text/x-python",
   "name": "python",
   "nbconvert_exporter": "python",
   "pygments_lexer": "ipython3",
   "version": "3.9.6"
  }
 },
 "nbformat": 4,
 "nbformat_minor": 5
}
