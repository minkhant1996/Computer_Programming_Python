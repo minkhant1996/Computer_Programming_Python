{
 "cells": [
  {
   "cell_type": "markdown",
   "id": "d48d285c",
   "metadata": {},
   "source": [
    "<html>\n",
    "    <h1> Bagging and Random Forests\n",
    "        </h1>\n",
    "        <p> <b> Min Khant Soe</b> </p>\n",
    "        <p> ID: 122277 </p>\n",
    "        <p> ^_^ </p>\n",
    "    </html>"
   ]
  },
  {
   "cell_type": "markdown",
   "id": "4dff0872",
   "metadata": {},
   "source": [
    "<html>\n",
    "    <h3> Modify the Bagging scratch code in our lecture such that:\n",
    "        </h3>\n",
    "        <p> Calculate for oob evaluation for each bootstrapped dataset, and also the average score</p>\n",
    "        <p> Change the code to \"without replacement\"</p>\n",
    "        <p> Put everything into a class Bagging. It should have at least two methods, fit(X_train, y_train), and predict(X_test)</p>\n",
    "        <p> Modify the code from above to randomize features. Set the number of features to be used in each tree to be sqrt(n), and then select a subset of features for each tree. This can be easily done by setting our DecisionTreeClassifier max_features to 'sqrt'</p>\n",
    "    </html>"
   ]
  },
  {
   "cell_type": "code",
   "execution_count": 1,
   "id": "d35e1a81",
   "metadata": {},
   "outputs": [],
   "source": [
    "import numpy as np\n",
    "import matplotlib.pyplot as plt\n",
    "\n",
    "from sklearn.datasets import load_iris\n",
    "from sklearn.model_selection import train_test_split\n",
    "from sklearn.metrics import classification_report\n",
    "\n",
    "from sklearn.tree import DecisionTreeClassifier\n",
    "import random\n",
    "from scipy import stats\n",
    "from sklearn.metrics import classification_report\n",
    "\n",
    "from sklearn.tree import DecisionTreeClassifier\n",
    "from sklearn.ensemble import BaggingClassifier\n",
    "\n",
    "from scipy import stats\n",
    "from sklearn.metrics import classification_report, accuracy_score"
   ]
  },
  {
   "cell_type": "code",
   "execution_count": 2,
   "id": "b99694f2",
   "metadata": {},
   "outputs": [
    {
     "name": "stdout",
     "output_type": "stream",
     "text": [
      "(90, 4) (60, 4) (90,) (60,)\n"
     ]
    }
   ],
   "source": [
    "iris = load_iris()\n",
    "X = iris.data\n",
    "y = iris.target\n",
    "\n",
    "X_train, X_test, y_train, y_test = train_test_split(X, y, \n",
    "                test_size=0.4, shuffle=True, random_state=35)\n",
    "print(X_train.shape, X_test.shape, y_train.shape, y_test.shape)"
   ]
  },
  {
   "cell_type": "code",
   "execution_count": 3,
   "id": "8d71e559",
   "metadata": {},
   "outputs": [],
   "source": [
    "class Bagging:\n",
    "    def set_params(self, B, bootstrap_ratio, with_no_replacement=True):\n",
    "        self.B = B\n",
    "        self.bootstrap_ratio = bootstrap_ratio\n",
    "        self.with_no_replacement = with_no_replacement\n",
    "              \n",
    "    def fit(self, X, y): \n",
    "        m, n = X.shape\n",
    "        \n",
    "        tree_params = {'max_depth': 2, 'max_features': 'sqrt'}\n",
    "        self.models = [DecisionTreeClassifier(**tree_params) for _ in range(self.B)]\n",
    "\n",
    "        #sample size for each tree\n",
    "        sample_size = int(self.bootstrap_ratio * len(X))\n",
    "\n",
    "        xsamples = np.zeros((self.B, sample_size, n))\n",
    "        ysamples = np.zeros((self.B, sample_size))\n",
    "\n",
    "        xsamples_oob = []  #use list because length is not known\n",
    "        ysamples_oob = []\n",
    "\n",
    "        #bootstrapping samples for each model\n",
    "        for i in range(self.B):\n",
    "            oob_idx = []\n",
    "            idxes = []\n",
    "            \n",
    "            for j in range(sample_size):\n",
    "                idx = random.randrange(m)\n",
    "                if (self.with_no_replacement):\n",
    "                    while idx in idxes:\n",
    "                        idx = random.randrange(m)\n",
    "                idxes.append(idx)\n",
    "                oob_idx.append(idx)\n",
    "                xsamples[i, j, :] = X[idx]\n",
    "                ysamples[i, j] = y[idx]\n",
    "                \n",
    "            mask = np.zeros((m), dtype=bool)\n",
    "            mask[oob_idx] = True\n",
    "            xsamples_oob.append(X[~mask])\n",
    "            ysamples_oob.append(y[~mask])\n",
    "    \n",
    "        #fitting each estimator\n",
    "        oob_score = 0\n",
    "        print(\"Out of bag score for each tree\")\n",
    "        for i, model in enumerate(self.models):\n",
    "            \n",
    "            _X = xsamples[i]\n",
    "            _y = ysamples[i]\n",
    "            model.fit(_X, _y)\n",
    "\n",
    "            #calculating oob score\n",
    "            _X_test = np.asarray(xsamples_oob[i])\n",
    "            _y_test = np.asarray(ysamples_oob[i])\n",
    "            yhat = model.predict(_X_test)\n",
    "            \n",
    "            oob_score += accuracy_score(_y_test, yhat)\n",
    "            accuracy = str(round(accuracy_score(_y_test, yhat), 4))\n",
    "            print(f\"Tree {i}\", accuracy)\n",
    "            \n",
    "        self.avg_oob_score = str(round(oob_score / len(self.models), 4))\n",
    "        print(\"\\nAverage out of bag score\")\n",
    "        print(self.avg_oob_score)\n",
    "    \n",
    "    def predict(self, X): \n",
    "        #make prediction and return the probabilities\n",
    "        predictions = np.zeros((self.B, X.shape[0]))\n",
    "        for i, model in enumerate(self.models):\n",
    "            yhat = model.predict(X)\n",
    "            predictions[i, :] = yhat\n",
    "        \n",
    "        return stats.mode(predictions)[0][0]"
   ]
  },
  {
   "cell_type": "code",
   "execution_count": 4,
   "id": "2641b266",
   "metadata": {},
   "outputs": [
    {
     "name": "stdout",
     "output_type": "stream",
     "text": [
      "Out of bag score for each tree\n",
      "Tree 0 1.0\n",
      "Tree 1 1.0\n",
      "Tree 2 0.8889\n",
      "Tree 3 1.0\n",
      "Tree 4 0.4444\n",
      "Tree 5 1.0\n",
      "Tree 6 0.8889\n",
      "Tree 7 1.0\n",
      "Tree 8 1.0\n",
      "Tree 9 1.0\n",
      "\n",
      "Average out of bag score\n",
      "0.9222\n",
      "\n",
      "               precision    recall  f1-score   support\n",
      "\n",
      "           0       1.00      1.00      1.00        19\n",
      "           1       0.86      0.86      0.86        22\n",
      "           2       0.84      0.84      0.84        19\n",
      "\n",
      "    accuracy                           0.90        60\n",
      "   macro avg       0.90      0.90      0.90        60\n",
      "weighted avg       0.90      0.90      0.90        60\n",
      "\n"
     ]
    }
   ],
   "source": [
    "model = Bagging()\n",
    "model.set_params(B=10, bootstrap_ratio=0.9)\n",
    "model.fit(X_train, y_train)\n",
    "yhat = model.predict(X_test)\n",
    "print('\\n',classification_report(y_test, yhat))"
   ]
  }
 ],
 "metadata": {
  "kernelspec": {
   "display_name": "Python 3 (ipykernel)",
   "language": "python",
   "name": "python3"
  },
  "language_info": {
   "codemirror_mode": {
    "name": "ipython",
    "version": 3
   },
   "file_extension": ".py",
   "mimetype": "text/x-python",
   "name": "python",
   "nbconvert_exporter": "python",
   "pygments_lexer": "ipython3",
   "version": "3.9.6"
  }
 },
 "nbformat": 4,
 "nbformat_minor": 5
}
