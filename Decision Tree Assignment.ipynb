{
 "cells": [
  {
   "cell_type": "markdown",
   "id": "b5e06d77",
   "metadata": {},
   "source": [
    "<html>\n",
    "    <h1> Decision Tree\n",
    "        </h1>\n",
    "        <p> <b> Min Khant Soe</b> </p>\n",
    "        <p> ID: 122277 </p>\n",
    "        <p> ^_^ </p>\n",
    "    </html>"
   ]
  },
  {
   "cell_type": "markdown",
   "id": "fa3ce782",
   "metadata": {},
   "source": [
    "<html>\n",
    "    <h3> === Task ==\n",
    "        </h3>\n",
    "        <p>  Modify the Decision Tree scratch code in our lecture such that:</p>\n",
    "        <p> 1) Modify the scratch code so it can accept an hyperparameter max_depth, in which it will continue create the tree until max_depth is reached. </p>\n",
    "        <p> 2) Put everything into a class DecisionTree. It should have at least two methods, fit(), and predict() </p>\n",
    "        <p> 3) Load the iris data and try with your class </p>\n",
    "    </html>"
   ]
  },
  {
   "cell_type": "code",
   "execution_count": 4,
   "id": "0a2a0962",
   "metadata": {},
   "outputs": [],
   "source": [
    "import matplotlib.pyplot as plt\n",
    "import numpy as np\n",
    "from sklearn.datasets import load_iris\n",
    "from sklearn.model_selection import train_test_split\n",
    "from sklearn.preprocessing import StandardScaler"
   ]
  },
  {
   "cell_type": "code",
   "execution_count": 5,
   "id": "76d83ffa",
   "metadata": {},
   "outputs": [],
   "source": [
    "class Node:\n",
    "    def __init__(self, predicted_class):\n",
    "        self.predicted_class = predicted_class\n",
    "        self.feature_index = 0\n",
    "        self.threshold = 0\n",
    "        self.left = None\n",
    "        self.right = None"
   ]
  },
  {
   "cell_type": "code",
   "execution_count": 6,
   "id": "837fc32c",
   "metadata": {},
   "outputs": [],
   "source": [
    "class DecisionTree:\n",
    "\n",
    "    def fit(self, X, y, max_depth = 15):\n",
    "        self.max_depth = max_depth\n",
    "        self.n_classes_ = len(set(y))\n",
    "        self.n_features_ = X.shape[1]\n",
    "        self.tree_ = self._grow_tree(X, y)\n",
    "        \n",
    "    \n",
    "    def predict(self, X):\n",
    "        for inputs in X:\n",
    "            node = self.tree_\n",
    "            while node.left:\n",
    "                if inputs[node.feature_index] < node.threshold:\n",
    "                    node = node.left\n",
    "                else:\n",
    "                    node = node.right\n",
    "        return [node.predicted_class]\n",
    "\n",
    "\n",
    "    def _grow_tree(self, X, y, depth=0):\n",
    "        num_samples_per_class = [np.sum(y == i) for i in range(self.n_classes_)]\n",
    "        predicted_class = np.argmax(num_samples_per_class)\n",
    "        node = Node(predicted_class=predicted_class)\n",
    "        if depth < self.max_depth:\n",
    "\n",
    "            m = y.size\n",
    "            num_parent = [np.sum(y == c) for c in range(self.n_classes_)]\n",
    "            best_gini = 1.0 - sum((n / m) ** 2 for n in num_parent)\n",
    "            best_idx, best_thr = None, None\n",
    "            \n",
    "            for idx in range(self.n_features_):\n",
    "                thresholds, classes = zip(*sorted(zip(X[:, idx], y)))\n",
    "                num_left = [0] * self.n_classes_\n",
    "                num_right = num_parent.copy()\n",
    "                \n",
    "                for i in range(1, m):\n",
    "                    c = classes[i - 1]\n",
    "                    num_left[c] += 1\n",
    "                    num_right[c] -= 1\n",
    "                    gini_left = 1.0 - sum(\n",
    "                        (num_left[x] / i) ** 2 for x in range(self.n_classes_)\n",
    "                    )\n",
    "                    gini_right = 1.0 - sum(\n",
    "                        (num_right[x] / (m - i)) ** 2 for x in range(self.n_classes_)\n",
    "                    )\n",
    "                    gini = (i * gini_left + (m - i) * gini_right) / m\n",
    "                    \n",
    "                    if thresholds[i] == thresholds[i - 1]:\n",
    "                        continue\n",
    "                    if gini < best_gini:\n",
    "                        best_gini = gini\n",
    "                        best_idx = idx\n",
    "                        best_thr = (thresholds[i] + thresholds[i - 1]) / 2\n",
    "                    \n",
    "                idx, thr = best_idx, best_thr\n",
    "            \n",
    "            if idx is not None:\n",
    "                indices_left = X[:, idx] < thr\n",
    "                X_left, y_left = X[indices_left], y[indices_left]\n",
    "                X_right, y_right = X[~indices_left], y[~indices_left]\n",
    "                node.feature_index = idx\n",
    "                node.threshold = thr\n",
    "                node.left = self._grow_tree(X_left, y_left, depth + 1)\n",
    "                node.right = self._grow_tree(X_right, y_right, depth + 1)\n",
    "        return node"
   ]
  },
  {
   "cell_type": "code",
   "execution_count": 7,
   "id": "66d9faa6",
   "metadata": {},
   "outputs": [],
   "source": [
    "dataset = load_iris()\n",
    "X, y = dataset.data, dataset.target"
   ]
  },
  {
   "cell_type": "code",
   "execution_count": 8,
   "id": "b7f9e042",
   "metadata": {},
   "outputs": [
    {
     "name": "stdout",
     "output_type": "stream",
     "text": [
      "[2]\n"
     ]
    }
   ],
   "source": [
    "Model = DecisionTree()\n",
    "Model.fit(X,y,max_depth=10)\n",
    "Pred = Model.predict([[1, 2, 10.5, 5.5, 3]])\n",
    "print(Pred)"
   ]
  }
 ],
 "metadata": {
  "kernelspec": {
   "display_name": "pythonDSAI",
   "language": "python",
   "name": "pythondsai"
  },
  "language_info": {
   "codemirror_mode": {
    "name": "ipython",
    "version": 3
   },
   "file_extension": ".py",
   "mimetype": "text/x-python",
   "name": "python",
   "nbconvert_exporter": "python",
   "pygments_lexer": "ipython3",
   "version": "3.9.6"
  }
 },
 "nbformat": 4,
 "nbformat_minor": 5
}
