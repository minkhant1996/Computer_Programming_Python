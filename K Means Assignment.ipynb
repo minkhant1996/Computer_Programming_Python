{
 "cells": [
  {
   "cell_type": "markdown",
   "id": "fe5c24d9",
   "metadata": {},
   "source": [
    "<html>\n",
    "    <h1> K Means\n",
    "        </h1>\n",
    "        <p> <b> Min Khant Soe</b> </p>\n",
    "        <p> ID: 122277 </p>\n",
    "        <p> ^_^ </p>\n",
    "    </html>"
   ]
  },
  {
   "cell_type": "markdown",
   "id": "fd7869ac",
   "metadata": {},
   "source": [
    "Modify the scratch code of K-means clustering in our lecture:\n",
    "    \n",
    "Modify so it print out the total within-cluster variation. Then try to run several k and identify which k is best.\n",
    "\n",
    "Since k-means can be slow due to its pairwise computations, let's implement a mini-batch k-means in which the cluster is create using only partial subset of samples.\n",
    "\n",
    "Put everything into a class"
   ]
  },
  {
   "cell_type": "code",
   "execution_count": 1,
   "id": "faa23dba",
   "metadata": {},
   "outputs": [],
   "source": [
    "import numpy as np\n",
    "import matplotlib.pyplot as plt"
   ]
  },
  {
   "cell_type": "code",
   "execution_count": 2,
   "id": "87e5ea86",
   "metadata": {},
   "outputs": [],
   "source": [
    "from sklearn.metrics import pairwise_distances_argmin\n",
    "from sklearn.datasets import make_blobs\n",
    "from time import time\n"
   ]
  },
  {
   "cell_type": "code",
   "execution_count": 3,
   "id": "d1cb4ac9",
   "metadata": {},
   "outputs": [],
   "source": [
    "class KMeans:\n",
    "    def __init__(self, k = 3, method = 'kmean',replacement=True, batch_size=100, max_iter=100):\n",
    "        self.k = k\n",
    "        self.method = method\n",
    "        self.replacement=replacement\n",
    "        self.batch_size = batch_size\n",
    "        self.max_iter = max_iter\n",
    "    \n",
    "    def fit(self, X):\n",
    "        m, n = X.shape\n",
    "\n",
    "        #1. randomly choose k clusters from X\n",
    "        \n",
    "        rng = np.random.RandomState(55)\n",
    "        i = rng.permutation(m)[:self.k]\n",
    "        self.centers = X[i]\n",
    "        \n",
    "        #having max iter makes sure it will stop eventually\n",
    "        for ix in np.arange(self.max_iter):\n",
    "            \n",
    "            if self.method == 'kmean':\n",
    "                X_new = X\n",
    "            elif self.method == 'mini_batch_kmean':\n",
    "                mini_batch = rng.randint(m)\n",
    "                X_new = X[mini_batch : mini_batch + self.batch_size]\n",
    "\n",
    "            #2. assign labels based on closest center\n",
    "            labels = pairwise_distances_argmin(X_new, self.centers)\n",
    "\n",
    "            #3. find new centers\n",
    "            new_centers = []\n",
    "            for i in range(self.k):\n",
    "                new_centers.append(X_new[labels == i].mean(axis=0))\n",
    "\n",
    "            #convert list to np.array; you can actually combine #3\n",
    "            #with np.array in one sentence \n",
    "            new_centers = np.array(new_centers)\n",
    "            \n",
    "#             if (ix % 100 == 0):\n",
    "#                 pred = pairwise_distances_argmin(X_new, new_centers)\n",
    "\n",
    "#                 plt.figure(figsize=(5, 2))\n",
    "#                 plt.title(f\"for k: {self.k}\")\n",
    "#                 plt.scatter(X_new[:, 0], X_new[:, 1], c = pred)\n",
    "#                 plt.scatter(new_centers[:, 0], new_centers[:, 1], s=100, c=\"black\", alpha=0.6)\n",
    "            \n",
    "            #4 stopping criteria - if centers do not \n",
    "            #change anymore, we stop!\n",
    "            #make sure to add rtol or atol since mini-batch does not converge\n",
    "            if(np.allclose(self.centers, new_centers, rtol=0.2)):\n",
    "                break\n",
    "            else:\n",
    "                self.centers = new_centers\n",
    "\n",
    "        print(f\"Done in {ix} iterations\")\n",
    "\n",
    "        #compute total within-variation score\n",
    "        total_with_variation_score = 0\n",
    "        labels = pairwise_distances_argmin(X, self.centers) \n",
    "        \n",
    "        for i in range(self.k):\n",
    "            cluster_mean = X[labels==i].mean(axis=0)\n",
    "            total_with_variation_score += ((X[labels==i] - cluster_mean)** 2).sum()\n",
    "            \n",
    "        print(\"Total within variation score: \", total_with_variation_score)\n",
    "\n",
    "    def predict(self, X):\n",
    "        \n",
    "        return pairwise_distances_argmin(X, self.centers)\n",
    "    "
   ]
  },
  {
   "cell_type": "markdown",
   "id": "4bbea33f",
   "metadata": {},
   "source": [
    "In total within variation score code, X is used instead of X_new to get the total within variation score of the whole X. This will help us to check our result with the Elbow curve which can be obtained by KMeans from sklearn.cluster."
   ]
  },
  {
   "cell_type": "code",
   "execution_count": 4,
   "id": "23633381",
   "metadata": {},
   "outputs": [
    {
     "name": "stdout",
     "output_type": "stream",
     "text": [
      "(1500, 2)\n"
     ]
    }
   ],
   "source": [
    "X, y_true = make_blobs(n_samples=1500, centers=4,cluster_std=0.60, random_state=0)\n",
    "print(X.shape)"
   ]
  },
  {
   "cell_type": "code",
   "execution_count": 5,
   "id": "840db741",
   "metadata": {
    "scrolled": true
   },
   "outputs": [
    {
     "name": "stdout",
     "output_type": "stream",
     "text": [
      "=====k = 2\n",
      "Done in 4 iterations\n",
      "Total within variation score:  5830.243528913617\n",
      "Fit and predict time 0.0029900074005126953\n",
      "=====k = 3\n",
      "Done in 4 iterations\n",
      "Total within variation score:  2493.8460360964195\n",
      "Fit and predict time 0.0029935836791992188\n",
      "=====k = 4\n",
      "Done in 3 iterations\n",
      "Total within variation score:  1006.539858127662\n",
      "Fit and predict time 0.0029871463775634766\n",
      "=====k = 5\n",
      "Done in 3 iterations\n",
      "Total within variation score:  915.4276668680077\n",
      "Fit and predict time 0.002992868423461914\n",
      "=====k = 6\n",
      "Done in 3 iterations\n",
      "Total within variation score:  837.708109987758\n",
      "Fit and predict time 0.001993417739868164\n"
     ]
    }
   ],
   "source": [
    "#mini batch kmean\n",
    "for k in range(2, 7):\n",
    "    print(f\"=====k = {k}\")\n",
    "    start = time()\n",
    "    model = KMeans(k = k, method = 'mini_batch_kmean')\n",
    "    model.fit(X)\n",
    "    preds = model.predict(X)\n",
    "    print(f\"Fit and predict time {time() - start}\")"
   ]
  },
  {
   "cell_type": "code",
   "execution_count": 6,
   "id": "14926a3b",
   "metadata": {},
   "outputs": [
    {
     "name": "stdout",
     "output_type": "stream",
     "text": [
      "=====k = 2\n",
      "Done in 4 iterations\n",
      "Total within variation score:  5807.863173525951\n",
      "Fit and predict time 0.0029859542846679688\n",
      "=====k = 3\n",
      "Done in 5 iterations\n",
      "Total within variation score:  2493.8460360964195\n",
      "Fit and predict time 0.002995014190673828\n",
      "=====k = 4\n",
      "Done in 2 iterations\n",
      "Total within variation score:  1007.1921816289595\n",
      "Fit and predict time 0.0019922256469726562\n",
      "=====k = 5\n",
      "Done in 2 iterations\n",
      "Total within variation score:  913.5432930633513\n",
      "Fit and predict time 0.0019943714141845703\n",
      "=====k = 6\n",
      "Done in 2 iterations\n",
      "Total within variation score:  837.0174255941797\n",
      "Fit and predict time 0.001992464065551758\n"
     ]
    }
   ],
   "source": [
    "#normal kmean\n",
    "for k in range(2, 7):\n",
    "    print(f\"=====k = {k}\")\n",
    "    start = time()\n",
    "    model = KMeans(k = k, method = 'kmean')\n",
    "    model.fit(X)\n",
    "    preds = model.predict(X)\n",
    "    print(f\"Fit and predict time {time() - start}\")\n"
   ]
  },
  {
   "cell_type": "markdown",
   "id": "9b468c80",
   "metadata": {},
   "source": [
    "\n",
    "After running the model for both KMean and Mini Batch KMean, I found that the best k is \"4\".\n",
    "\n",
    "For k = 4, 5 and 6 of \"kmean\" and \"mini batch kmean\", iterations were done in 2 and 3 respectively. Besides, Total within variation score for them are not in big range and run time are also almost same.\n",
    "\n",
    "As professor mentioned smaller k with acceptable variation score is better, I choose k = 4 as the best k.\n",
    "\n",
    "I confirmed my result with the Elbow curve which is below this cell."
   ]
  },
  {
   "cell_type": "code",
   "execution_count": 7,
   "id": "48c41771",
   "metadata": {},
   "outputs": [
    {
     "data": {
      "text/plain": [
       "Text(5, 2000, 'elbow')"
      ]
     },
     "execution_count": 7,
     "metadata": {},
     "output_type": "execute_result"
    },
    {
     "data": {
      "image/png": "[encoded data removed]",
      "text/plain": [
       "<Figure size 1080x360 with 1 Axes>"
      ]
     },
     "metadata": {
      "needs_background": "light"
     },
     "output_type": "display_data"
    }
   ],
   "source": [
    "#sum of squared distances\n",
    "from sklearn.cluster import KMeans\n",
    "ssd = []\n",
    "for k in range(2, 10):\n",
    "    kmeans = KMeans(n_clusters=k)\n",
    "    kmeans.fit(X)\n",
    "    ssd.append(kmeans.inertia_)\n",
    "\n",
    "fig = plt.figure(figsize=(15, 5))\n",
    "plt.plot(range(2, 10), ssd)\n",
    "plt.xticks(range(2, 10))\n",
    "plt.grid(True)\n",
    "plt.title('Elbow curve')\n",
    "\n",
    "plt.annotate('elbow', xy=(4, 1000), xytext=(5, 2000),  #xytext ---> xy\n",
    "            arrowprops=dict(arrowstyle=\"->\"))"
   ]
  },
  {
   "cell_type": "code",
   "execution_count": null,
   "id": "e55f29a4",
   "metadata": {},
   "outputs": [],
   "source": []
  }
 ],
 "metadata": {
  "kernelspec": {
   "display_name": "Python 3 (ipykernel)",
   "language": "python",
   "name": "python3"
  },
  "language_info": {
   "codemirror_mode": {
    "name": "ipython",
    "version": 3
   },
   "file_extension": ".py",
   "mimetype": "text/x-python",
   "name": "python",
   "nbconvert_exporter": "python",
   "pygments_lexer": "ipython3",
   "version": "3.9.7"
  }
 },
 "nbformat": 4,
 "nbformat_minor": 5
}
